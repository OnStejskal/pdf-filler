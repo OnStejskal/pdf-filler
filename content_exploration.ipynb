{
 "cells": [
  {
   "cell_type": "code",
   "execution_count": null,
   "metadata": {},
   "outputs": [],
   "source": [
    "import PyPDF2\n",
    "import pymupdf\n",
    "import pdfplumber\n",
    "import os\n",
    "import tika"
   ]
  },
  {
   "cell_type": "markdown",
   "metadata": {},
   "source": [
    "## Metadata"
   ]
  },
  {
   "cell_type": "code",
   "execution_count": null,
   "metadata": {},
   "outputs": [],
   "source": [
    "\n",
    "for document_name in os.listdir(\"data\"):\n",
    "    if document_name[-4:] == \".pdf\":\n",
    "        input_pdf = os.path.join(\"data\", document_name)\n",
    "        with open(input_pdf, \"rb\") as file:\n",
    "            reader = PyPDF2.PdfReader(file)\n",
    "            \n",
    "            # Extract metadata\n",
    "            metadata = reader.metadata\n",
    "            print(f\"Document Name: {document_name}\")\n",
    "            print(\"Metadata:\")\n",
    "            for key, value in metadata.items():\n",
    "                print(f\"{key}: {value}\")\n",
    "            print(\"\\n\")"
   ]
  },
  {
   "cell_type": "markdown",
   "metadata": {},
   "source": [
    "## Different libs "
   ]
  },
  {
   "cell_type": "code",
   "execution_count": null,
   "metadata": {},
   "outputs": [],
   "source": [
    "fname1 = os.path.join(\"data\", \"chodov.pdf\")\n",
    "fname2 = os.path.join(\"data\", \"chodov.pdf\")\n",
    "\n",
    "personal_info = {\n",
    "    \"jméno\": \"John Doe\",\n",
    "    \"Jméno\": \"Kyryl smith\",\n",
    "}\n"
   ]
  },
  {
   "cell_type": "markdown",
   "metadata": {},
   "source": [
    "### PyMuPDF "
   ]
  },
  {
   "cell_type": "code",
   "execution_count": null,
   "metadata": {},
   "outputs": [],
   "source": [
    "import pymupdf \n",
    "# Open the PDF file\n",
    "pdf_document = pymupdf.open(fname1)\n",
    "\n",
    "# Loop through each page\n",
    "for page in pdf_document:\n",
    "    # Search for the placeholder text\n",
    "    for key in personal_info.keys():\n",
    "        text_instances = page.search_for(key)\n",
    "        for inst in text_instances:\n",
    "            # Get coordinates of the placeholder\n",
    "            x0, y0, x1, y1 = inst\n",
    "            print(f'name: {key}, coords: {inst}')\n",
    "            # Define your personal information\n",
    "            page.insert_text((x0, y0), personal_info[key], fontsize=12)\n",
    "pdf_document.save(\"output\\\\PyMuPDF.pdf\")\n",
    "pdf_document.close()"
   ]
  },
  {
   "cell_type": "code",
   "execution_count": null,
   "metadata": {},
   "outputs": [],
   "source": [
    "%%capture cap --no-stderr\n",
    "for doc_name in os.listdir(\"data\"):\n",
    "    doc = pymupdf.open(f\"data\\\\{doc_name}\")\n",
    "    page1 = doc[0]\n",
    "    print(f'NAME: {doc_name}')\n",
    "    print(page1.get_text())\n",
    "    print('#############################################################################################')\n",
    "\n",
    "\n",
    "with open('output\\\\pymupdf\\\\get_text.txt', 'w') as f:\n",
    "    f.write(cap.stdout)\n",
    "del cap"
   ]
  },
  {
   "cell_type": "markdown",
   "metadata": {},
   "source": [
    "### PDFplumber"
   ]
  },
  {
   "cell_type": "code",
   "execution_count": null,
   "metadata": {},
   "outputs": [],
   "source": [
    "%%capture cap --no-stderr\n",
    "import pdfplumber\n",
    "\n",
    "for doc_name in os.listdir(\"data\"):\n",
    "    with pdfplumber.open(f\"data\\\\{doc_name}\") as pdf:\n",
    "        page1 = pdf.pages[0]\n",
    "        print(f'NAME: {doc_name}')\n",
    "        print(page1.extract_text())\n",
    "        print('#############################################################################################')\n",
    "\n",
    "\n",
    "with open('output\\\\PDFplumber\\\\get_text.txt', 'w') as f:\n",
    "    f.write(cap.stdout)\n",
    "del cap\n"
   ]
  },
  {
   "cell_type": "markdown",
   "metadata": {},
   "source": [
    "### PyPDF2"
   ]
  },
  {
   "cell_type": "code",
   "execution_count": null,
   "metadata": {},
   "outputs": [],
   "source": [
    "%%capture cap --no-stderr\n",
    "from PyPDF2 import PdfReader\n",
    "\n",
    "for doc_name in os.listdir(\"data\"):\n",
    "    reader = PdfReader(f\"data\\\\{doc_name}\")\n",
    "    page1 = reader.pages[0]\n",
    "    print(f'NAME: {doc_name}')\n",
    "    print(page1.extract_text())\n",
    "    print('#############################################################################################')\n",
    "\n",
    "\n",
    "with open('output\\\\pypdf2\\\\get_text.txt', 'w') as f:\n",
    "    f.write(cap.stdout)\n",
    "del cap"
   ]
  },
  {
   "cell_type": "markdown",
   "metadata": {},
   "source": [
    "### Tika"
   ]
  },
  {
   "cell_type": "code",
   "execution_count": null,
   "metadata": {},
   "outputs": [],
   "source": [
    "%%capture cap --no-stderr\n",
    "\n",
    "import tika\n",
    "from tika import parser\n",
    "for doc_name in os.listdir(\"data\"):\n",
    "    parsed = parser.from_file(f\"data\\\\{doc_name}\")\n",
    "    print(f'NAME: {doc_name}')\n",
    "    print(\"Metadata: \")\n",
    "    print(parsed[\"metadata\"])\n",
    "    print(\"Content: \")\n",
    "    print(parsed[\"content\"])\n",
    "\n",
    "    print('#############################################################################################')\n",
    "\n",
    "\n",
    "with open('output\\\\tika\\\\get_text.txt', 'w') as f:\n",
    "    f.write(cap.stdout)\n",
    "del cap"
   ]
  },
  {
   "cell_type": "markdown",
   "metadata": {},
   "source": [
    "### pytesseract"
   ]
  },
  {
   "cell_type": "code",
   "execution_count": null,
   "metadata": {},
   "outputs": [],
   "source": [
    "import pytesseract\n",
    "print(pytesseract.get_languages(config=''))"
   ]
  },
  {
   "cell_type": "code",
   "execution_count": null,
   "metadata": {},
   "outputs": [],
   "source": [
    "import pytesseract\n",
    "from PIL import Image\n",
    "import io\n",
    "\n",
    "\n",
    "def pdf_page_to_image(page, dpi=300):\n",
    "    # Calculate scaling factor for the desired DPI\n",
    "    zoom = dpi / 72  # 72 DPI is the default resolution\n",
    "    mat = pymupdf.Matrix(zoom, zoom)  # Create a transformation matrix for zooming\n",
    "\n",
    "    # Render the page with the scaling factor applied\n",
    "    pix = page.get_pixmap(matrix=mat)  # Render page with increased DPI\n",
    "    img = Image.open(io.BytesIO(pix.tobytes(\"png\")))  # Convert to PIL image\n",
    "    return img\n",
    "\n",
    "\n",
    "def detect_underline_area(ocr_data, start_x, start_y, width):\n",
    "    for i, word in enumerate(ocr_data['text']):\n",
    "        if '...' in word or '____' in word:\n",
    "            # Calculate the bounding box for the underline pattern\n",
    "            x, y, w, h = ocr_data[\"left\"][i], ocr_data[\"top\"][i], ocr_data[\"width\"][i], ocr_data[\"height\"][i]\n",
    "            # Check if it's within an appropriate area horizontally aligned with the field\n",
    "            if start_y - 10 <= y <= start_y + 20 and x > start_x:\n",
    "                return (x, y)  # Return the position to place text\n",
    "\n",
    "# Function to apply OCR and overlay text on PDF\n",
    "for doc_name in os.listdir(\"data\"):\n",
    "    pdf = pymupdf.open(f\"data\\\\{doc_name}\")\n",
    "\n",
    "    for page_num in range(pdf.page_count):\n",
    "        page = pdf[page_num]\n",
    "        img = pdf_page_to_image(page, dpi=1000)\n",
    "        ocr_data = pytesseract.image_to_data(img, output_type=pytesseract.Output.DICT, lang='ces')\n",
    "        print(f'NAME: {doc_name}')\n",
    "        print(ocr_data[\"text\"])\n",
    "\n",
    "        print('#############################################################################################')\n",
    "        break\n",
    "\n"
   ]
  }
 ],
 "metadata": {
  "kernelspec": {
   "display_name": "pdfocr",
   "language": "python",
   "name": "python3"
  },
  "language_info": {
   "codemirror_mode": {
    "name": "ipython",
    "version": 3
   },
   "file_extension": ".py",
   "mimetype": "text/x-python",
   "name": "python",
   "nbconvert_exporter": "python",
   "pygments_lexer": "ipython3",
   "version": "3.9.20"
  }
 },
 "nbformat": 4,
 "nbformat_minor": 2
}
